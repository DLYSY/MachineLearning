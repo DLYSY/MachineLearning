{
 "cells": [
  {
   "cell_type": "markdown",
   "metadata": {},
   "source": [
    "|课程名称：机器学习|学生姓名：邓力予|学生学号：20201910442|\n",
    "|-|-|-|\n",
    "|实验名称：机器学习实验一|\n",
    "|学院：数学与统计学院|专业：数据科学与大数据技术|年级：2020级|"
   ]
  },
  {
   "cell_type": "markdown",
   "metadata": {
    "tags": []
   },
   "source": [
    "# 使用scikit-learn\n",
    "\n",
    "## 导入包"
   ]
  },
  {
   "cell_type": "code",
   "execution_count": 1,
   "metadata": {},
   "outputs": [],
   "source": [
    "from sklearn import tree\n",
    "import pandas as pd\n",
    "from sklearn.metrics import accuracy_score\n",
    "import numpy as np"
   ]
  },
  {
   "cell_type": "markdown",
   "metadata": {},
   "source": [
    "## 读取数据\n",
    "### 使用pandas读取数据"
   ]
  },
  {
   "cell_type": "code",
   "execution_count": 2,
   "metadata": {},
   "outputs": [],
   "source": [
    "data_train = pd.read_csv(\"fashion-mnist_train.csv\")\n",
    "data_test = pd.read_csv(\"fashion-mnist_test.csv\")"
   ]
  },
  {
   "cell_type": "markdown",
   "metadata": {},
   "source": [
    "### 拆分数据集\n",
    "\n",
    "- 训练集"
   ]
  },
  {
   "cell_type": "code",
   "execution_count": 3,
   "metadata": {},
   "outputs": [],
   "source": [
    "data_train_x = data_train.iloc[:, 1:]\n",
    "data_train_y = data_train[\"label\"]"
   ]
  },
  {
   "cell_type": "markdown",
   "metadata": {},
   "source": [
    "- 测试集"
   ]
  },
  {
   "cell_type": "code",
   "execution_count": 4,
   "metadata": {},
   "outputs": [],
   "source": [
    "data_test_x = data_test.iloc[:, 1:]\n",
    "data_test_y = data_test[\"label\"]"
   ]
  },
  {
   "cell_type": "markdown",
   "metadata": {},
   "source": [
    "## 使用scikit-learn训练模型\n",
    "\n",
    "### 训练\n",
    "\n",
    "- 实例化模型"
   ]
  },
  {
   "cell_type": "code",
   "execution_count": 5,
   "metadata": {},
   "outputs": [],
   "source": [
    "model_sklearn = tree.DecisionTreeClassifier()"
   ]
  },
  {
   "cell_type": "markdown",
   "metadata": {},
   "source": [
    "- 训练模型"
   ]
  },
  {
   "cell_type": "code",
   "execution_count": null,
   "metadata": {},
   "outputs": [],
   "source": [
    "model_sklearn.fit(data_train_x, y=data_train_y)"
   ]
  },
  {
   "cell_type": "markdown",
   "metadata": {},
   "source": [
    "### 测试"
   ]
  },
  {
   "cell_type": "code",
   "execution_count": 7,
   "metadata": {},
   "outputs": [],
   "source": [
    "data_test_y_pre = model_sklearn.predict(data_test_x)"
   ]
  },
  {
   "cell_type": "markdown",
   "metadata": {},
   "source": [
    "- 计算正确率"
   ]
  },
  {
   "cell_type": "code",
   "execution_count": 8,
   "metadata": {},
   "outputs": [
    {
     "name": "stdout",
     "output_type": "stream",
     "text": [
      "0.7993\n"
     ]
    }
   ],
   "source": [
    "score_sklearn = accuracy_score(data_test_y, data_test_y_pre)\n",
    "print(score_sklearn)"
   ]
  },
  {
   "cell_type": "markdown",
   "metadata": {},
   "source": [
    "# 不使用scikit-learn\n",
    "\n",
    "## 构建决策树\n",
    "\n",
    "- 计算信息熵"
   ]
  },
  {
   "cell_type": "code",
   "execution_count": 9,
   "metadata": {},
   "outputs": [],
   "source": [
    "def cal_information_entropy(data):\n",
    "    data_label = data.iloc[:,-1]\n",
    "    label_class =data_label.value_counts() #总共有多少类\n",
    "    Ent = 0\n",
    "    for k in label_class.keys():\n",
    "        p_k = label_class[k]/len(data_label)\n",
    "        Ent += -p_k*np.log2(p_k)\n",
    "    return Ent"
   ]
  },
  {
   "cell_type": "markdown",
   "metadata": {},
   "source": [
    "- 计算给定数据属性a的信息增益"
   ]
  },
  {
   "cell_type": "code",
   "execution_count": 10,
   "metadata": {},
   "outputs": [],
   "source": [
    "def cal_information_gain(data, a):\n",
    "    Ent = cal_information_entropy(data)\n",
    "    feature_class = data[a].value_counts() #特征有多少种可能\n",
    "    gain = 0\n",
    "    for v in feature_class.keys():\n",
    "        weight = feature_class[v]/data.shape[0]\n",
    "        Ent_v = cal_information_entropy(data.loc[data[a] == v])\n",
    "        gain += weight*Ent_v\n",
    "    return Ent - gain"
   ]
  },
  {
   "cell_type": "markdown",
   "metadata": {},
   "source": [
    "- 先计算固有值intrinsic_value"
   ]
  },
  {
   "cell_type": "code",
   "execution_count": 11,
   "metadata": {},
   "outputs": [],
   "source": [
    "def cal_gain_ratio(data , a):\n",
    "    IV_a = 0\n",
    "    feature_class = data[a].value_counts()  # 特征有多少种可能\n",
    "    for v in feature_class.keys():\n",
    "        weight = feature_class[v]/data.shape[0]\n",
    "        IV_a += -weight*np.log2(weight)\n",
    "    gain_ration = cal_information_gain(data,a)/IV_a\n",
    "    return gain_ration"
   ]
  },
  {
   "cell_type": "markdown",
   "metadata": {},
   "source": [
    "- 获取标签最多的那一类"
   ]
  },
  {
   "cell_type": "code",
   "execution_count": 12,
   "metadata": {},
   "outputs": [],
   "source": [
    "def get_most_label(data):\n",
    "    data_label = data.iloc[:,-1]\n",
    "    label_sort = data_label.value_counts(sort=True)\n",
    "    return label_sort.keys()[0]"
   ]
  },
  {
   "cell_type": "markdown",
   "metadata": {},
   "source": [
    "- 挑选最优特征，即在信息增益大于平均水平的特征中选取增益率最高的特征"
   ]
  },
  {
   "cell_type": "code",
   "execution_count": 13,
   "metadata": {},
   "outputs": [],
   "source": [
    "def get_best_feature(data):\n",
    "    features = data.columns[:-1]\n",
    "    res = {}\n",
    "    for a in features:\n",
    "        temp = cal_information_gain(data, a)\n",
    "        gain_ration = cal_gain_ratio(data,a)\n",
    "        res[a] = (temp,gain_ration)\n",
    "    res = sorted(res.items(),key=lambda x:x[1][0],reverse=True) #按信息增益排名\n",
    "    res_avg = sum([x[1][0] for x in res])/len(res) #信息增益平均水平\n",
    "    good_res = [x for x in res if x[1][0] >= res_avg] #选取信息增益高于平均水平的特征\n",
    "    result =sorted(good_res,key=lambda x:x[1][1],reverse=True) #将信息增益高的特征按照增益率进行排名\n",
    "    return result[0][0] #返回高信息增益中增益率最大的特征"
   ]
  },
  {
   "cell_type": "markdown",
   "metadata": {},
   "source": [
    "- 将数据转化为（属性值：数据）的元组形式返回，并删除之前的特征列"
   ]
  },
  {
   "cell_type": "code",
   "execution_count": 14,
   "metadata": {},
   "outputs": [],
   "source": [
    "def drop_exist_feature(data, best_feature):\n",
    "    attr = pd.unique(data[best_feature])\n",
    "    new_data = [(nd, data[data[best_feature] == nd]) for nd in attr]\n",
    "    new_data = [(n[0], n[1].drop([best_feature], axis=1)) for n in new_data]\n",
    "    return new_data"
   ]
  },
  {
   "cell_type": "markdown",
   "metadata": {},
   "source": [
    "- 创建决策树"
   ]
  },
  {
   "cell_type": "code",
   "execution_count": 15,
   "metadata": {},
   "outputs": [],
   "source": [
    "def create_tree(data):\n",
    "    data_label = data.iloc[:,-1]\n",
    "    if len(data_label.value_counts()) == 1: #只有一类\n",
    "        return data_label.values[0]\n",
    "    if all(len(data[i].value_counts()) == 1 for i in data.iloc[:,:-1].columns): #所有数据的特征值一样，选样本最多的类作为分类结果\n",
    "        return get_most_label(data)\n",
    "    best_feature = get_best_feature(data) #根据信息增益得到的最优划分特征\n",
    "    Tree = {best_feature:{}} #用字典形式存储决策树\n",
    "    exist_vals = pd.unique(data[best_feature])  # 当前数据下最佳特征的取值\n",
    "    if len(exist_vals) != len(column_count[best_feature]):  # 如果特征的取值相比于原来的少了\n",
    "        no_exist_attr = set(column_count[best_feature]) - set(exist_vals)  # 少的那些特征\n",
    "        for no_feat in no_exist_attr:\n",
    "            Tree[best_feature][no_feat] = get_most_label(data)  # 缺失的特征分类为当前类别最多的\n",
    "    for item in drop_exist_feature(data,best_feature): #根据特征值的不同递归创建决策树\n",
    "        Tree[best_feature][item[0]] = create_tree(item[1])\n",
    "    return Tree"
   ]
  },
  {
   "cell_type": "markdown",
   "metadata": {},
   "source": [
    "- 预测"
   ]
  },
  {
   "cell_type": "code",
   "execution_count": 16,
   "metadata": {},
   "outputs": [],
   "source": [
    "def predict(Tree , test_data):\n",
    "    first_feature = list(Tree.keys())[0]\n",
    "    second_dict = Tree[first_feature]\n",
    "    input_first = test_data.get(first_feature)\n",
    "    input_value = second_dict[input_first]\n",
    "    if isinstance(input_value , dict): #判断分支还是不是字典\n",
    "        class_label = predict(input_value, test_data)\n",
    "    else:\n",
    "        class_label = input_value\n",
    "    return class_label"
   ]
  },
  {
   "cell_type": "markdown",
   "metadata": {},
   "source": [
    "## 训练\n",
    "\n",
    "- 统计每个特征的取值情况作为全局变量"
   ]
  },
  {
   "cell_type": "code",
   "execution_count": 17,
   "metadata": {},
   "outputs": [],
   "source": [
    "column_count = dict([(ds, list(pd.unique(data_train[ds]))) for ds in data_train.iloc[:, :-1].columns])"
   ]
  },
  {
   "cell_type": "markdown",
   "metadata": {},
   "source": [
    "- 训练决策树"
   ]
  },
  {
   "cell_type": "code",
   "execution_count": 18,
   "metadata": {},
   "outputs": [],
   "source": [
    "try:\n",
    "    with open(\"Tree.txt\",\"r\") as file_tree:\n",
    "        dicision_Tree=eval(file_tree.read())\n",
    "except FileNotFoundError:\n",
    "    dicision_Tree = create_tree(data_train)\n",
    "    with open(\"Tree.txt\",\"w\") as file_tree:\n",
    "        file_tree.write(str(dicision_Tree))"
   ]
  },
  {
   "cell_type": "markdown",
   "metadata": {},
   "source": [
    "## 测试\n",
    "\n",
    "- 使用测试集预测"
   ]
  },
  {
   "cell_type": "code",
   "execution_count": 19,
   "metadata": {},
   "outputs": [],
   "source": [
    "pre_y_mytree=[]\n",
    "for i in range(10000):\n",
    "    try:\n",
    "        pre_y_mytree.append(predict(dicision_Tree, data_test_x.iloc[i, :]))\n",
    "    except KeyError:\n",
    "        pre_y_mytree.append(np.nan)"
   ]
  },
  {
   "cell_type": "markdown",
   "metadata": {},
   "source": [
    "- 准确率"
   ]
  },
  {
   "cell_type": "code",
   "execution_count": 20,
   "metadata": {},
   "outputs": [
    {
     "name": "stdout",
     "output_type": "stream",
     "text": [
      "0.1\n"
     ]
    }
   ],
   "source": [
    "right_count=0\n",
    "for i in range(10000):\n",
    "    if pre_y_mytree[i]==data_test_y[i]:\n",
    "        right_count=right_count+1\n",
    "print(right_count/10000)"
   ]
  }
 ],
 "metadata": {
  "kernelspec": {
   "display_name": "Python [conda env:mechine-learning]",
   "language": "python",
   "name": "conda-env-mechine-learning-py"
  },
  "language_info": {
   "codemirror_mode": {
    "name": "ipython",
    "version": 3
   },
   "file_extension": ".py",
   "mimetype": "text/x-python",
   "name": "python",
   "nbconvert_exporter": "python",
   "pygments_lexer": "ipython3",
   "version": "3.11.2"
  },
  "toc-autonumbering": true,
  "toc-showcode": false,
  "toc-showmarkdowntxt": false
 },
 "nbformat": 4,
 "nbformat_minor": 4
}
