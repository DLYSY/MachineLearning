{
 "cells": [
  {
   "attachments": {},
   "cell_type": "markdown",
   "id": "adc7944a-751c-4dbf-9517-9497bb1caba5",
   "metadata": {},
   "source": [
    "|课程名称：机器学习|学生姓名：邓力予|学生学号：20201910442|\n",
    "|-|-|-|\n",
    "|实验名称：机器学习实验二|\n",
    "|学院：数学与统计学院|专业：数据科学与大数据技术|年级：2020级|"
   ]
  },
  {
   "attachments": {},
   "cell_type": "markdown",
   "id": "61e1f531-d2bd-4364-a5aa-d945b6dfc3db",
   "metadata": {},
   "source": [
    "# 导入包"
   ]
  },
  {
   "cell_type": "code",
   "execution_count": 8,
   "id": "64748ff5-d86b-491c-8b2e-329ee9900e50",
   "metadata": {
    "execution": {
     "iopub.execute_input": "2023-04-18T08:40:10.882912Z",
     "iopub.status.busy": "2023-04-18T08:40:10.882112Z",
     "iopub.status.idle": "2023-04-18T08:40:10.887817Z",
     "shell.execute_reply": "2023-04-18T08:40:10.887196Z",
     "shell.execute_reply.started": "2023-04-18T08:40:10.882846Z"
    },
    "tags": []
   },
   "outputs": [],
   "source": [
    "from sklearn.neural_network import MLPClassifier\n",
    "from pandas import read_csv\n",
    "from sklearn.metrics import accuracy_score"
   ]
  },
  {
   "attachments": {},
   "cell_type": "markdown",
   "id": "e4e1c8da-1187-4da6-be3d-a9439f97b9b6",
   "metadata": {},
   "source": [
    "# 读取数据\n",
    "\n",
    "## 从文件读取数据"
   ]
  },
  {
   "cell_type": "code",
   "execution_count": 2,
   "id": "22494d8e-4466-4da0-a28b-0cdeac601258",
   "metadata": {
    "execution": {
     "iopub.execute_input": "2023-04-18T08:36:36.886167Z",
     "iopub.status.busy": "2023-04-18T08:36:36.885957Z",
     "iopub.status.idle": "2023-04-18T08:36:40.287245Z",
     "shell.execute_reply": "2023-04-18T08:36:40.286747Z",
     "shell.execute_reply.started": "2023-04-18T08:36:36.886151Z"
    }
   },
   "outputs": [],
   "source": [
    "data_train=read_csv(\"fashion-mnist_train.csv\")\n",
    "data_test=read_csv(\"fashion-mnist_test.csv\")"
   ]
  },
  {
   "attachments": {},
   "cell_type": "markdown",
   "id": "7a5dfc24-2e65-47b4-89e4-4c034920c630",
   "metadata": {},
   "source": [
    "## 拆分数据集\n",
    "\n",
    "- 训练集"
   ]
  },
  {
   "cell_type": "code",
   "execution_count": 3,
   "id": "bb7c0d50-1249-4ed2-95e5-b43bee318e78",
   "metadata": {
    "execution": {
     "iopub.execute_input": "2023-04-18T08:36:40.287936Z",
     "iopub.status.busy": "2023-04-18T08:36:40.287786Z",
     "iopub.status.idle": "2023-04-18T08:36:40.290886Z",
     "shell.execute_reply": "2023-04-18T08:36:40.290447Z",
     "shell.execute_reply.started": "2023-04-18T08:36:40.287922Z"
    }
   },
   "outputs": [],
   "source": [
    "data_train_x = data_train.iloc[:, 1:]\n",
    "data_train_y = data_train[\"label\"]"
   ]
  },
  {
   "attachments": {},
   "cell_type": "markdown",
   "id": "5d50925c-45d4-4401-89da-28670fb6b58d",
   "metadata": {},
   "source": [
    "- 测试集"
   ]
  },
  {
   "cell_type": "code",
   "execution_count": 4,
   "id": "029073d5-e745-4472-a082-2798d5d0e501",
   "metadata": {
    "execution": {
     "iopub.execute_input": "2023-04-18T08:36:40.292384Z",
     "iopub.status.busy": "2023-04-18T08:36:40.292099Z",
     "iopub.status.idle": "2023-04-18T08:36:40.296249Z",
     "shell.execute_reply": "2023-04-18T08:36:40.295622Z",
     "shell.execute_reply.started": "2023-04-18T08:36:40.292365Z"
    }
   },
   "outputs": [],
   "source": [
    "data_test_x = data_test.iloc[:, 1:]\n",
    "data_test_y = data_test[\"label\"]"
   ]
  },
  {
   "attachments": {},
   "cell_type": "markdown",
   "id": "28eb4aa2-ba19-488e-94a5-a330836840dd",
   "metadata": {},
   "source": [
    "# 训练模型\n",
    "\n",
    "## 建立模型"
   ]
  },
  {
   "cell_type": "code",
   "execution_count": 5,
   "id": "b540ac14-7c45-43a9-bd5f-b7670610cc64",
   "metadata": {
    "execution": {
     "iopub.execute_input": "2023-04-18T08:36:40.296903Z",
     "iopub.status.busy": "2023-04-18T08:36:40.296722Z",
     "iopub.status.idle": "2023-04-18T08:36:40.300473Z",
     "shell.execute_reply": "2023-04-18T08:36:40.299798Z",
     "shell.execute_reply.started": "2023-04-18T08:36:40.296888Z"
    }
   },
   "outputs": [],
   "source": [
    "clf = MLPClassifier(hidden_layer_sizes=(100,50), activation=\"relu\",\n",
    "                 solver='adam', alpha=0.0001,\n",
    "                 batch_size='auto', learning_rate=\"constant\",\n",
    "                 learning_rate_init=0.001, power_t=0.5, max_iter=200 ,tol=1e-4)"
   ]
  },
  {
   "attachments": {},
   "cell_type": "markdown",
   "id": "484fb681-8c08-4645-8019-5c617e3ad477",
   "metadata": {},
   "source": [
    "### 示意图\n",
    "\n",
    "![net](/home/codes/机器学习/机器学习实验二/net.png)\n",
    "\n",
    "### 描述\n",
    "\n",
    "1. `hidden_layer_sizes=(100,50)`：指定隐藏层，第一层100个隐藏单元，第二层50个单元；\n",
    "\n",
    "2. `activation=\"relu\"`：隐藏层的激活函数为RELU；\n",
    "\n",
    "3. `solver='adam'`：参数的优化算法，基于随机梯度下降的自适应算法；\n",
    "\n",
    "4. `alpha=0.0001`：L2正则化参数；\n",
    "\n",
    "5. `batch_size='auto'`：设置批大小为自动；\n",
    "\n",
    "6. `learning_rate=\"constant\"`：参数更新时的学习率为初始学习率；\n",
    "\n",
    "7. `learning_rate_init=0.001`：初始学习率；\n",
    "\n",
    "8. `max_iter=200`：最大迭代轮数；\n",
    "\n",
    "9. `tol=1e-4`：损失值容忍阈值，小于该值时停止训练。\n",
    "\n",
    "## 训练"
   ]
  },
  {
   "cell_type": "code",
   "execution_count": 6,
   "id": "d286f3e1-2800-4a53-94d1-0845c8757605",
   "metadata": {
    "execution": {
     "iopub.execute_input": "2023-04-18T08:36:40.301603Z",
     "iopub.status.busy": "2023-04-18T08:36:40.301420Z",
     "iopub.status.idle": "2023-04-18T08:39:24.675505Z",
     "shell.execute_reply": "2023-04-18T08:39:24.675111Z",
     "shell.execute_reply.started": "2023-04-18T08:36:40.301587Z"
    },
    "tags": []
   },
   "outputs": [
    {
     "data": {
      "text/html": [
       "<style>#sk-container-id-1 {color: black;background-color: white;}#sk-container-id-1 pre{padding: 0;}#sk-container-id-1 div.sk-toggleable {background-color: white;}#sk-container-id-1 label.sk-toggleable__label {cursor: pointer;display: block;width: 100%;margin-bottom: 0;padding: 0.3em;box-sizing: border-box;text-align: center;}#sk-container-id-1 label.sk-toggleable__label-arrow:before {content: \"▸\";float: left;margin-right: 0.25em;color: #696969;}#sk-container-id-1 label.sk-toggleable__label-arrow:hover:before {color: black;}#sk-container-id-1 div.sk-estimator:hover label.sk-toggleable__label-arrow:before {color: black;}#sk-container-id-1 div.sk-toggleable__content {max-height: 0;max-width: 0;overflow: hidden;text-align: left;background-color: #f0f8ff;}#sk-container-id-1 div.sk-toggleable__content pre {margin: 0.2em;color: black;border-radius: 0.25em;background-color: #f0f8ff;}#sk-container-id-1 input.sk-toggleable__control:checked~div.sk-toggleable__content {max-height: 200px;max-width: 100%;overflow: auto;}#sk-container-id-1 input.sk-toggleable__control:checked~label.sk-toggleable__label-arrow:before {content: \"▾\";}#sk-container-id-1 div.sk-estimator input.sk-toggleable__control:checked~label.sk-toggleable__label {background-color: #d4ebff;}#sk-container-id-1 div.sk-label input.sk-toggleable__control:checked~label.sk-toggleable__label {background-color: #d4ebff;}#sk-container-id-1 input.sk-hidden--visually {border: 0;clip: rect(1px 1px 1px 1px);clip: rect(1px, 1px, 1px, 1px);height: 1px;margin: -1px;overflow: hidden;padding: 0;position: absolute;width: 1px;}#sk-container-id-1 div.sk-estimator {font-family: monospace;background-color: #f0f8ff;border: 1px dotted black;border-radius: 0.25em;box-sizing: border-box;margin-bottom: 0.5em;}#sk-container-id-1 div.sk-estimator:hover {background-color: #d4ebff;}#sk-container-id-1 div.sk-parallel-item::after {content: \"\";width: 100%;border-bottom: 1px solid gray;flex-grow: 1;}#sk-container-id-1 div.sk-label:hover label.sk-toggleable__label {background-color: #d4ebff;}#sk-container-id-1 div.sk-serial::before {content: \"\";position: absolute;border-left: 1px solid gray;box-sizing: border-box;top: 0;bottom: 0;left: 50%;z-index: 0;}#sk-container-id-1 div.sk-serial {display: flex;flex-direction: column;align-items: center;background-color: white;padding-right: 0.2em;padding-left: 0.2em;position: relative;}#sk-container-id-1 div.sk-item {position: relative;z-index: 1;}#sk-container-id-1 div.sk-parallel {display: flex;align-items: stretch;justify-content: center;background-color: white;position: relative;}#sk-container-id-1 div.sk-item::before, #sk-container-id-1 div.sk-parallel-item::before {content: \"\";position: absolute;border-left: 1px solid gray;box-sizing: border-box;top: 0;bottom: 0;left: 50%;z-index: -1;}#sk-container-id-1 div.sk-parallel-item {display: flex;flex-direction: column;z-index: 1;position: relative;background-color: white;}#sk-container-id-1 div.sk-parallel-item:first-child::after {align-self: flex-end;width: 50%;}#sk-container-id-1 div.sk-parallel-item:last-child::after {align-self: flex-start;width: 50%;}#sk-container-id-1 div.sk-parallel-item:only-child::after {width: 0;}#sk-container-id-1 div.sk-dashed-wrapped {border: 1px dashed gray;margin: 0 0.4em 0.5em 0.4em;box-sizing: border-box;padding-bottom: 0.4em;background-color: white;}#sk-container-id-1 div.sk-label label {font-family: monospace;font-weight: bold;display: inline-block;line-height: 1.2em;}#sk-container-id-1 div.sk-label-container {text-align: center;}#sk-container-id-1 div.sk-container {/* jupyter's `normalize.less` sets `[hidden] { display: none; }` but bootstrap.min.css set `[hidden] { display: none !important; }` so we also need the `!important` here to be able to override the default hidden behavior on the sphinx rendered scikit-learn.org. See: https://github.com/scikit-learn/scikit-learn/issues/21755 */display: inline-block !important;position: relative;}#sk-container-id-1 div.sk-text-repr-fallback {display: none;}</style><div id=\"sk-container-id-1\" class=\"sk-top-container\"><div class=\"sk-text-repr-fallback\"><pre>MLPClassifier(hidden_layer_sizes=(100, 50))</pre><b>In a Jupyter environment, please rerun this cell to show the HTML representation or trust the notebook. <br />On GitHub, the HTML representation is unable to render, please try loading this page with nbviewer.org.</b></div><div class=\"sk-container\" hidden><div class=\"sk-item\"><div class=\"sk-estimator sk-toggleable\"><input class=\"sk-toggleable__control sk-hidden--visually\" id=\"sk-estimator-id-1\" type=\"checkbox\" checked><label for=\"sk-estimator-id-1\" class=\"sk-toggleable__label sk-toggleable__label-arrow\">MLPClassifier</label><div class=\"sk-toggleable__content\"><pre>MLPClassifier(hidden_layer_sizes=(100, 50))</pre></div></div></div></div></div>"
      ],
      "text/plain": [
       "MLPClassifier(hidden_layer_sizes=(100, 50))"
      ]
     },
     "execution_count": 6,
     "metadata": {},
     "output_type": "execute_result"
    }
   ],
   "source": [
    "clf.fit(data_train_x, y=data_train_y)"
   ]
  },
  {
   "attachments": {},
   "cell_type": "markdown",
   "id": "e47912bc-a506-4dfa-8a24-257e7df1edf8",
   "metadata": {},
   "source": [
    "## 测试\n",
    "\n",
    "- 使用测试集进行预测"
   ]
  },
  {
   "cell_type": "code",
   "execution_count": 9,
   "id": "45c946fb-89dc-4876-9b5b-a9e239d0d1f1",
   "metadata": {
    "execution": {
     "iopub.execute_input": "2023-04-18T08:40:17.520920Z",
     "iopub.status.busy": "2023-04-18T08:40:17.520217Z",
     "iopub.status.idle": "2023-04-18T08:40:17.683549Z",
     "shell.execute_reply": "2023-04-18T08:40:17.683148Z",
     "shell.execute_reply.started": "2023-04-18T08:40:17.520858Z"
    },
    "tags": []
   },
   "outputs": [],
   "source": [
    "data_test_y_pre = clf.predict(data_test_x)"
   ]
  },
  {
   "attachments": {},
   "cell_type": "markdown",
   "id": "c0964b37-100d-4e89-8d8f-8a4dbc406ec3",
   "metadata": {},
   "source": [
    "- 计算正确率"
   ]
  },
  {
   "cell_type": "code",
   "execution_count": 10,
   "id": "98c1133e-41b5-409c-b970-64ee83663ee7",
   "metadata": {
    "execution": {
     "iopub.execute_input": "2023-04-18T08:40:21.233541Z",
     "iopub.status.busy": "2023-04-18T08:40:21.232839Z",
     "iopub.status.idle": "2023-04-18T08:40:21.247062Z",
     "shell.execute_reply": "2023-04-18T08:40:21.246281Z",
     "shell.execute_reply.started": "2023-04-18T08:40:21.233479Z"
    }
   },
   "outputs": [
    {
     "name": "stdout",
     "output_type": "stream",
     "text": [
      "0.8776\n"
     ]
    }
   ],
   "source": [
    "score_sklearn = accuracy_score(data_test_y, data_test_y_pre)\n",
    "print(score_sklearn)"
   ]
  }
 ],
 "metadata": {
  "kernelspec": {
   "display_name": "machine-learning",
   "language": "python",
   "name": "python3"
  },
  "language_info": {
   "codemirror_mode": {
    "name": "ipython",
    "version": 3
   },
   "file_extension": ".py",
   "mimetype": "text/x-python",
   "name": "python",
   "nbconvert_exporter": "python",
   "pygments_lexer": "ipython3",
   "version": "3.11.3"
  }
 },
 "nbformat": 4,
 "nbformat_minor": 5
}
