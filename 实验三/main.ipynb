{
 "cells": [
  {
   "attachments": {},
   "cell_type": "markdown",
   "id": "bcefd25d",
   "metadata": {},
   "source": [
    "|课程名称：机器学习|学生姓名：邓力予|学生学号：20201910442|\n",
    "|-|-|-|\n",
    "|实验名称：机器学习实验三|\n",
    "|学院：数学与统计学院|专业：数据科学与大数据技术|年级：2020级|"
   ]
  },
  {
   "attachments": {},
   "cell_type": "markdown",
   "id": "5391e1ab",
   "metadata": {},
   "source": [
    "# 准备工作\n",
    "\n",
    "## 导入包"
   ]
  },
  {
   "cell_type": "code",
   "execution_count": 1,
   "id": "1e712d9f-a361-4abd-845b-af2ce41c63da",
   "metadata": {},
   "outputs": [],
   "source": [
    "from sklearn.svm import SVC\n",
    "from sklearn.metrics import accuracy_score\n",
    "from pandas import read_csv\n",
    "import numpy as np\n",
    "import joblib\n",
    "import copy\n",
    "import scipy.spatial.distance as dist"
   ]
  },
  {
   "attachments": {},
   "cell_type": "markdown",
   "id": "3cfa0b5d-a79f-4f50-af51-5b4174461634",
   "metadata": {},
   "source": [
    "## 读取数据\n",
    "\n",
    "### 从文件读取数据"
   ]
  },
  {
   "cell_type": "code",
   "execution_count": 2,
   "id": "e295bbad-835e-444b-9cab-ff942e3bbebc",
   "metadata": {},
   "outputs": [],
   "source": [
    "#使用int16降低精度防止后续计算内存溢出\n",
    "data_train=read_csv(\"../fashion-mnist_train.csv\",dtype=np.int16)\n",
    "data_test=read_csv(\"../fashion-mnist_test.csv\",dtype=np.int16)"
   ]
  },
  {
   "attachments": {},
   "cell_type": "markdown",
   "id": "89493337-ae96-4de2-8fea-67e783e231e2",
   "metadata": {},
   "source": [
    "### 拆分数据集\n",
    "\n",
    "- 训练集"
   ]
  },
  {
   "cell_type": "code",
   "execution_count": 3,
   "id": "97b84088-9c89-4c9a-bd72-97e1b448208b",
   "metadata": {},
   "outputs": [],
   "source": [
    "data_train_x = data_train.iloc[:, 1:]\n",
    "data_train_y = data_train[\"label\"]"
   ]
  },
  {
   "attachments": {},
   "cell_type": "markdown",
   "id": "10a0ac2e-3d56-49d5-b7b4-c7061ef39727",
   "metadata": {},
   "source": [
    "- 测试集"
   ]
  },
  {
   "cell_type": "code",
   "execution_count": 4,
   "id": "d6f8183a-b394-4d79-a54b-806662c66968",
   "metadata": {},
   "outputs": [],
   "source": [
    "data_test_x = data_test.iloc[:, 1:]\n",
    "data_test_y = data_test[\"label\"]"
   ]
  },
  {
   "attachments": {},
   "cell_type": "markdown",
   "id": "26fdb005",
   "metadata": {},
   "source": [
    "# 使用scikit-learn\n",
    "\n",
    "## 构造模型"
   ]
  },
  {
   "cell_type": "code",
   "execution_count": 5,
   "id": "ff4f7ede-8d6e-4f81-ba71-4d2ce4a4f3ce",
   "metadata": {},
   "outputs": [],
   "source": [
    "model=SVC(gamma='scale', C=1.0, decision_function_shape='ovr', kernel='rbf')"
   ]
  },
  {
   "attachments": {},
   "cell_type": "markdown",
   "id": "7f190a41",
   "metadata": {},
   "source": [
    "## 训练模型"
   ]
  },
  {
   "cell_type": "code",
   "execution_count": 6,
   "id": "39f78881-b6d7-4e64-a242-878fdf46f864",
   "metadata": {},
   "outputs": [],
   "source": [
    "try:\n",
    "    model=joblib.load('model.pkl')\n",
    "except FileNotFoundError:\n",
    "    model.fit(data_train_x,data_train_y)\n",
    "    joblib.dump(model, 'model.pkl')"
   ]
  },
  {
   "attachments": {},
   "cell_type": "markdown",
   "id": "d0f17455",
   "metadata": {},
   "source": [
    "## 测试\n",
    "\n",
    "- 使用测试集进行预测"
   ]
  },
  {
   "cell_type": "code",
   "execution_count": 7,
   "id": "86ea969a",
   "metadata": {},
   "outputs": [],
   "source": [
    "try:\n",
    "    with open(\"sklearn_pre.txt\",\"r+\") as file:\n",
    "        data_test_y_pre=np.array(eval(file.read()))\n",
    "except FileNotFoundError:\n",
    "    data_test_y_pre = model.predict(data_test_x)\n",
    "    with open(\"sklearn_pre.txt\",\"w+\") as file:\n",
    "        file.write(str(tuple(data_test_y_pre)))"
   ]
  },
  {
   "attachments": {},
   "cell_type": "markdown",
   "id": "33284dd5",
   "metadata": {},
   "source": [
    "- 计算正确率"
   ]
  },
  {
   "cell_type": "code",
   "execution_count": 8,
   "id": "15973d29",
   "metadata": {},
   "outputs": [
    {
     "name": "stdout",
     "output_type": "stream",
     "text": [
      "0.8921\n"
     ]
    }
   ],
   "source": [
    "score_sklearn = accuracy_score(data_test_y, data_test_y_pre)\n",
    "print(score_sklearn)"
   ]
  },
  {
   "attachments": {},
   "cell_type": "markdown",
   "id": "7f90d71b",
   "metadata": {},
   "source": [
    "# 不使用scikit-learn\n",
    "\n",
    "## 构造模型\n",
    "\n",
    "- 训练类"
   ]
  },
  {
   "cell_type": "code",
   "execution_count": 9,
   "id": "8302ed6c",
   "metadata": {},
   "outputs": [],
   "source": [
    "from __future__ import division\n",
    "class SvmTrain(object):\n",
    "    def __init__(self, C, max_iters, tol, kernel, seta, gamma, degree):\n",
    "        self.C = C\n",
    "        self.max_iters = max_iters\n",
    "        self.tol = tol\n",
    "        self.kernel = kernel\n",
    "        self.seta = seta\n",
    "        self.gamma = gamma\n",
    "        self.degree = degree\n",
    "        \n",
    "    def random_idx(self, i, n):\n",
    "        j = i\n",
    "        while j == i:\n",
    "            j = np.random.randint(0, n)\n",
    "        return j\n",
    "    \n",
    "    def find_bounds(self, a, i, j):\n",
    "        if self.y[i] == self.y[j]:\n",
    "            L = max(0, a[i] + a[j] - self.C)\n",
    "            H = min(a[i] + a[j], self.C)\n",
    "        else:\n",
    "            L = max(0, a[j] - a[i])\n",
    "            H = min(self.C, self.C + a[j] - a[j])\n",
    "        return L, H\n",
    "    \n",
    "    def clip(self, a, L, H):\n",
    "        if a > H:\n",
    "            a = H\n",
    "        elif a < L:\n",
    "            a = L\n",
    "        else:\n",
    "            a = a\n",
    "        return a\n",
    "    \n",
    "    def linear_kernel(self, X1, X2):\n",
    "        res = X1.dot(X2.T)\n",
    "        return res\n",
    "    \n",
    "    def poly_kernel(self, X1, X2):\n",
    "        res = (self.seta + self.gamma*X1.dot(X2.T))**self.degree\n",
    "        return res\n",
    "    \n",
    "    def rbf_kernel(self, X1, X2):\n",
    "        X1 = np.atleast_2d(X1)\n",
    "        X2 = np.atleast_2d(X2)\n",
    "        res = np.exp(-self.gamma * dist.cdist(X1, X2)**2)\n",
    "        return res\n",
    "    \n",
    "    def train(self, X, y):\n",
    "        self.y=y\n",
    "        if self.kernel == \"linear\":\n",
    "            K = self.linear_kernel(X, X)\n",
    "            kernel_func = self.linear_kernel\n",
    "        elif self.kernel == \"poly\":\n",
    "            assert isinstance(self.seta, int) and self.seta >= 0, \"seta should be given as int and >= 0\"\n",
    "            assert isinstance(self.gamma, float) and self.gamma > 0, \"gamma should be given as float and > 0\"\n",
    "            assert isinstance(self.degree, int) and self.degree >= 2, \"degree should be given as int and >= 2\"\n",
    "            K = self.poly_kernel(X, X)\n",
    "            kernel_func = self.poly_kernel\n",
    "        elif self.kernel == \"rbf\":\n",
    "            assert isinstance(self.gamma, float) and self.gamma > 0, \"gamma should be given as float and > 0\"\n",
    "            K = self.rbf_kernel(X, X)\n",
    "            kernel_func = self.rbf_kernel\n",
    "        else:\n",
    "            raise ValueError(\"kernel should be linear, poly or rbf\")\n",
    "        \n",
    "        n = len(X)\n",
    "        iters = 0\n",
    "        a = np.zeros((1, n))[0]\n",
    "        b = 0\n",
    "        while iters < self.max_iters:\n",
    "            iters += 1\n",
    "            a_prev = copy.deepcopy(a)\n",
    "            for i in range(n):\n",
    "                Ki = kernel_func(X, X[i:i+1])\n",
    "                ui = (a*y).T.dot(Ki) + b\n",
    "                Ei = ui - y[i]\n",
    "                # print(int(y[i]*Ei))\n",
    "                if (int(y[i]*Ei) >= 1 and a[i] > 0) or (int(y[i]*Ei) <= 1 and a[i] < self.C) \\\n",
    "                    or (int(y[i]*Ei) == 1 and a[i] == 0) or (int(y[i]*Ei) == 1 and a[i] == self.C):\n",
    "                    # Pick random i\n",
    "                    j = self.random_idx(i,n)\n",
    "                    # Error for i\n",
    "                    Kj = kernel_func(X, X[j:j+1])\n",
    "                    uj = (a*y).T.dot(Kj) + b # y_hat\n",
    "                    Ej = uj - y[j]\n",
    "                    # find_bounds\n",
    "                    L, H = self.find_bounds(a, i, j)\n",
    "                    # eta\n",
    "                    \n",
    "                    eta = K[i:i+1, i:i+1] + K[j:j+1,j:j+1] - 2*K[i:i+1,j:j+1]\n",
    "                    eta_a=eta.any()<0\n",
    "                    if eta_a.any() <= 0: continue\n",
    "                    # Save old alphas\n",
    "                    ai_old, aj_old = a[i], a[j]\n",
    "                    # Update alpha\n",
    "                    a[j] = aj_old + y[j]*(Ei-Ej)/eta\n",
    "                    a[j] = self.clip(a[j], L, H)\n",
    "                    a[i] = ai_old + y[j]/y[i]*(aj_old-a[j])\n",
    "                    # Find intercept\n",
    "                    b1 = b - Ei - y[i]*(a[i]-ai_old)*K[i,i] - y[j]*(a[j]-aj_old)*K[i,j]\n",
    "                    b2 = b - Ej - y[i]*(a[i]-ai_old)*K[i,j] - y[j]*(a[j]-aj_old)*K[j,j]\n",
    "                    if 0 < a[i] < self.C:\n",
    "                        b = b1\n",
    "                    elif 0 < a[j] < self.C:\n",
    "                        b = b2\n",
    "                    else:\n",
    "                        b = 0.5 * (b1 + b2)\n",
    "                else:\n",
    "                    continue\n",
    "            # Check convergence\n",
    "            diff = np.sqrt(np.sum((a-a_prev)**2))\n",
    "            if diff < self.tol:\n",
    "                break\n",
    "        return iters, kernel_func, a, b"
   ]
  },
  {
   "attachments": {},
   "cell_type": "markdown",
   "id": "6106b318",
   "metadata": {},
   "source": [
    "- 测试类"
   ]
  },
  {
   "cell_type": "code",
   "execution_count": 10,
   "id": "2d27fa4f",
   "metadata": {},
   "outputs": [],
   "source": [
    "class SvmPredict(object):\n",
    "    def __init__(self, a, b, X, y, kernel_func):\n",
    "        self.a = a\n",
    "        self.b = b\n",
    "        self.X =X\n",
    "        self.y = y\n",
    "        self.kernel_func = kernel_func\n",
    "    \n",
    "    def predict(self, X_predict):\n",
    "        K = self.kernel_func(self.X, X_predict)\n",
    "        y_hat = (self.a*self.y).T.dot(K) + self.b\n",
    "        y_pred = np.sign(y_hat)\n",
    "        return y_pred"
   ]
  },
  {
   "attachments": {},
   "cell_type": "markdown",
   "id": "636450ba",
   "metadata": {},
   "source": [
    "## 训练模型"
   ]
  },
  {
   "cell_type": "code",
   "execution_count": 11,
   "id": "1edab2e7",
   "metadata": {},
   "outputs": [],
   "source": [
    "obj_train = SvmTrain(C=1, max_iters=100, tol=0.01, kernel=\"rbf\", seta=None, gamma=0.5, degree=None)\n",
    "iters, kernel_func, a, b = obj_train.train(data_train_x[:4000], data_train_y[:4000])"
   ]
  },
  {
   "attachments": {},
   "cell_type": "markdown",
   "id": "c396c60b",
   "metadata": {},
   "source": [
    "## 测试\n",
    "\n",
    "- 测试集预测"
   ]
  },
  {
   "cell_type": "code",
   "execution_count": 14,
   "id": "b673a5b2",
   "metadata": {},
   "outputs": [],
   "source": [
    "try: \n",
    "    with open (\"my_pre.txt\",\"r+\") as file:\n",
    "        y_pred=np.array(eval(file.read()))\n",
    "except FileNotFoundError:\n",
    "    obj_predict = SvmPredict(a, b, data_train_x[:4000], data_train_y[:4000], kernel_func)\n",
    "    y_pred = obj_predict.predict(data_test_x[:1000])\n",
    "    with open(\"my_pre.txt\",\"w+\") as file:\n",
    "        file.write(str(tuple(y_pred)))"
   ]
  },
  {
   "attachments": {},
   "cell_type": "markdown",
   "id": "90a00d29",
   "metadata": {},
   "source": [
    "- 计算正确率"
   ]
  },
  {
   "cell_type": "code",
   "execution_count": 15,
   "id": "dacbca9b",
   "metadata": {},
   "outputs": [
    {
     "name": "stdout",
     "output_type": "stream",
     "text": [
      "0.0098\n"
     ]
    }
   ],
   "source": [
    "print(sum(data_test_y[:1000] == y_pred)/len(data_test_y))"
   ]
  }
 ],
 "metadata": {
  "kernelspec": {
   "display_name": "machine-learning",
   "language": "python",
   "name": "python3"
  },
  "language_info": {
   "codemirror_mode": {
    "name": "ipython",
    "version": 3
   },
   "file_extension": ".py",
   "mimetype": "text/x-python",
   "name": "python",
   "nbconvert_exporter": "python",
   "pygments_lexer": "ipython3",
   "version": "3.11.3"
  }
 },
 "nbformat": 4,
 "nbformat_minor": 5
}
